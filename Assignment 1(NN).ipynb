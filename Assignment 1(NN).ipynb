{
 "cells": [
  {
   "cell_type": "code",
   "execution_count": 1,
   "id": "2e66d365",
   "metadata": {},
   "outputs": [
    {
     "name": "stdout",
     "output_type": "stream",
     "text": [
      "Enter a string: python\n",
      "Reversed string: noht\n"
     ]
    }
   ],
   "source": [
    "input_string = input(\"Enter a string: \")\n",
    "if len(input_string) < 2:\n",
    "    print(\"Input string must have at least 2 characters.\")\n",
    "else:\n",
    "    modified_string = input_string[2:]\n",
    "\n",
    "    reversed_string = modified_string[::-1]\n",
    "\n",
    "    print(\"Reversed string:\", reversed_string)\n"
   ]
  },
  {
   "cell_type": "code",
   "execution_count": 2,
   "id": "e3a8a00f",
   "metadata": {},
   "outputs": [
    {
     "name": "stdout",
     "output_type": "stream",
     "text": [
      "Enter first number10\n",
      "eneter second number2\n",
      "Addition: 12.0\n",
      "Subtraction: 8.0\n",
      "Multiplication: 20.0\n",
      "Division: 5.0\n"
     ]
    }
   ],
   "source": [
    "num1 = float(input(\"Enter first number\"))\n",
    "num2 = float(input(\"eneter second number\"))\n",
    "print(\"Addition:\", num1+num2)\n",
    "print(\"Subtraction:\", num1-num2)\n",
    "print(\"Multiplication:\", num1*num2)\n",
    "print(\"Division:\", num1/num2)\n",
    "     "
   ]
  },
  {
   "cell_type": "code",
   "execution_count": 3,
   "id": "51d9d4c9",
   "metadata": {},
   "outputs": [
    {
     "name": "stdout",
     "output_type": "stream",
     "text": [
      "Enter a sentence: I love playing with python\n",
      "Modified sentence: I love playing with pythons\n"
     ]
    }
   ],
   "source": [
    "input_sentence = input(\"Enter a sentence: \")\n",
    "\n",
    "modified_sentence = input_sentence.replace('python', 'pythons')\n",
    "\n",
    "print(\"Modified sentence:\", modified_sentence)\n",
    "\n",
    "     "
   ]
  },
  {
   "cell_type": "code",
   "execution_count": 4,
   "id": "99dac98f",
   "metadata": {},
   "outputs": [
    {
     "name": "stdout",
     "output_type": "stream",
     "text": [
      "Enter class score 90\n",
      "A\n"
     ]
    }
   ],
   "source": [
    "score = int(input(\"Enter class score \"))\n",
    "if(score>=90):\n",
    "  print(\"A\")\n",
    "elif(score>=80 and score<90):\n",
    "  print(\"B\")\n",
    "elif(score>=70 and score<80):\n",
    "  print(\"C\")\n",
    "elif(score>=60 and score<70):\n",
    "  print(\"D\")\n",
    "else:\n",
    "  print(\"F\")\n",
    "     "
   ]
  },
  {
   "cell_type": "code",
   "execution_count": null,
   "id": "4174bd73",
   "metadata": {},
   "outputs": [],
   "source": []
  }
 ],
 "metadata": {
  "kernelspec": {
   "display_name": "Python 3 (ipykernel)",
   "language": "python",
   "name": "python3"
  },
  "language_info": {
   "codemirror_mode": {
    "name": "ipython",
    "version": 3
   },
   "file_extension": ".py",
   "mimetype": "text/x-python",
   "name": "python",
   "nbconvert_exporter": "python",
   "pygments_lexer": "ipython3",
   "version": "3.11.5"
  }
 },
 "nbformat": 4,
 "nbformat_minor": 5
}
